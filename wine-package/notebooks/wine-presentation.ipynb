{
 "cells": [
  {
   "cell_type": "markdown",
   "metadata": {},
   "source": [
    "# Romboost: Wine Findings"
   ]
  },
  {
   "cell_type": "markdown",
   "metadata": {},
   "source": [
    "## Basic Information"
   ]
  },
  {
   "cell_type": "markdown",
   "metadata": {},
   "source": [
    "### Wine Attributes"
   ]
  },
  {
   "cell_type": "code",
   "execution_count": 1,
   "metadata": {},
   "outputs": [],
   "source": [
    "import pandas as pd"
   ]
  },
  {
   "cell_type": "code",
   "execution_count": 2,
   "metadata": {},
   "outputs": [
    {
     "name": "stdout",
     "output_type": "stream",
     "text": [
      "<class 'pandas.core.frame.DataFrame'>\n",
      "RangeIndex: 178 entries, 0 to 177\n",
      "Data columns (total 13 columns):\n",
      " #   Column                Non-Null Count  Dtype  \n",
      "---  ------                --------------  -----  \n",
      " 0   Alcohol               178 non-null    float64\n",
      " 1   Malic_Acid            178 non-null    float64\n",
      " 2   Ash                   178 non-null    float64\n",
      " 3   Ash_Alcanity          178 non-null    float64\n",
      " 4   Magnesium             178 non-null    int64  \n",
      " 5   Total_Phenols         178 non-null    float64\n",
      " 6   Flavanoids            178 non-null    float64\n",
      " 7   Nonflavanoid_Phenols  178 non-null    float64\n",
      " 8   Proanthocyanins       178 non-null    float64\n",
      " 9   Color_Intensity       178 non-null    float64\n",
      " 10  Hue                   178 non-null    float64\n",
      " 11  OD280                 178 non-null    float64\n",
      " 12  Proline               178 non-null    int64  \n",
      "dtypes: float64(11), int64(2)\n",
      "memory usage: 18.2 KB\n"
     ]
    }
   ],
   "source": [
    "wine_raw = pd.read_csv('../data/wine_raw.csv')\n",
    "wine_raw.info()"
   ]
  },
  {
   "cell_type": "markdown",
   "metadata": {},
   "source": []
  },
  {
   "cell_type": "markdown",
   "metadata": {},
   "source": [
    "These data are the results of a chemical analysis of wines grown in the same region in Italy but derived from three different cultivars. The analysis determined the quantities of 13 constituents found in each of the three types of wines.\n",
    "\n",
    "The attributes are:\n",
    "- Alcohol: The percentage of alcohol content in the wine, which contributes to its body and mouthfeel.\n",
    "\n",
    "-  Malic Acid: A type of acid found in grapes, affecting the tartness and acidity of the wine.\n",
    "\n",
    "- Ash: The inorganic residue left after the complete burning of organic matter, indicating the mineral content in the wine.\n",
    "\n",
    "- Ash Alcanity: The measure of the total alkalinity of the ash in the wine.\n",
    "\n",
    "- Magnesium: A mineral present in wine that can influence its taste and mouthfeel.\n",
    "\n",
    "- Total Phenols: The total concentration of phenolic compounds in wine, which contribute to its color, flavor, and antioxidant properties.\n",
    "\n",
    "- Flavanoids: A subgroup of phenolic compounds that contribute to the color and flavor of the wine.\n",
    "\n",
    "- Nonflavanoid Phenols: Phenolic compounds other than flavanoids, which also contribute to the overall phenolic content.\n",
    "\n",
    "- Proanthocyanins: A type of flavonoid that contributes to the wine's color and mouthfeel.\n",
    "\n",
    "- Color Intensity: The depth of color in the wine, influenced by the presence of pigments and other compounds.\n",
    "\n",
    "- Hue: The shade of color in the wine, often described in terms of red, purple, or brown.\n",
    "\n",
    "- OD280 (Optical Density at 280 nm): A measure of the absorbance of light by the wine at a specific wavelength, often used to assess protein content.\n",
    "\n",
    "- Proline: An amino acid found in grapes, and its concentration in wine can be an indicator of grape maturity.\n"
   ]
  },
  {
   "cell_type": "markdown",
   "metadata": {},
   "source": [
    "![distplot](../app/images/wine_distplots.png)"
   ]
  },
  {
   "cell_type": "markdown",
   "metadata": {},
   "source": [
    "**Single Bell Curves:**\n",
    "From the previous plots we can check that there is a single bell curve in variables Ash, Alcalinity of Ash, Magnesium, Nonflavanoid Phenols, Proanthocyanins and Color intensity.\n",
    "\n",
    "**Two bell Curves:**\n",
    "There is a two bells curve in variables Malic Acid, Alcohol, Total Phenols, Flavanoids, Hue, ODB280 and Proline."
   ]
  },
  {
   "cell_type": "markdown",
   "metadata": {},
   "source": [
    "![correlations](../app/images/wine_correlations.png)"
   ]
  },
  {
   "cell_type": "markdown",
   "metadata": {},
   "source": [
    "We can see some wine features are correlated."
   ]
  },
  {
   "cell_type": "markdown",
   "metadata": {},
   "source": [
    "**Medium Correlations**"
   ]
  },
  {
   "cell_type": "markdown",
   "metadata": {},
   "source": [
    "![medium corr](../app/images/wine_correlated_scatters(0.4,0.6).png)"
   ]
  },
  {
   "cell_type": "markdown",
   "metadata": {},
   "source": [
    "**Strong Correlations**"
   ]
  },
  {
   "cell_type": "markdown",
   "metadata": {},
   "source": [
    "![strong corr](../app/images/wine_correlated_scatters(0.6,0.8).png)"
   ]
  },
  {
   "cell_type": "markdown",
   "metadata": {},
   "source": [
    "**Very Strong Correlations**"
   ]
  },
  {
   "cell_type": "markdown",
   "metadata": {},
   "source": [
    "![very strong corr](../app/images/wine_correlated_scatters(0.8,1).png)"
   ]
  },
  {
   "cell_type": "markdown",
   "metadata": {},
   "source": [
    "#### **Correlations**\n",
    "**Positive Correlations:**\n",
    "There are positive correlations between alcohol content and magnesium, color intensity, and proline. Wines with higher alcohol content tend to exhibit higher levels of magnesium, color intensity, and proline. This may suggest that these attributes are positively associated with alcohol content.\n",
    "\n",
    "**Negative Correlations:**\n",
    "There are negative correlations between malic acid and both flavanoids and hue. Wines with higher malic acid content tend to have lower levels of flavanoids and lower hue values. This suggests an inverse relationship between malic acid and these attributes.\n",
    "\n",
    "**Strong Relationships:**\n",
    "Strong positive correlations exist between total phenols and both flavanoids and OD280. Additionally, there is a strong correlation between flavanoids and OD280. These strong relationships indicate that these pairs of attributes tend to vary together, and they may play significant roles in defining the overall chemical composition and quality of the wine.\n",
    "\n",
    "**Trade-Offs:**\n",
    "There is a moderate negative correlation between total phenols and nonflavanoid phenols, suggesting a potential trade-off between these two types of phenolic compounds. Wines with higher total phenols may have lower levels of nonflavanoid phenols.\n",
    "\n",
    "**Quality Indicators:**\n",
    "The strong correlations involving total phenols, flavanoids, and OD280 suggest that these attributes may be important indicators of wine quality. Wines with higher total phenols and flavanoids, as well as higher OD280 values, might be associated with higher perceived quality.\n",
    "\n",
    "**Color Relationships:**\n",
    "Alcohol content is positively correlated with color intensity, suggesting that wines with higher alcohol content may exhibit more intense color. Additionally, there is a negative correlation between malic acid and hue, indicating that wines with higher malic acid may have a lower color hue."
   ]
  },
  {
   "cell_type": "markdown",
   "metadata": {},
   "source": [
    "### Dimensionality Reduction (PCA) and Clustering"
   ]
  },
  {
   "cell_type": "markdown",
   "metadata": {},
   "source": [
    "**Number of components decision:**"
   ]
  },
  {
   "cell_type": "markdown",
   "metadata": {},
   "source": [
    "![exp variance](../app/images/explained_variance_PCA.png)"
   ]
  },
  {
   "cell_type": "markdown",
   "metadata": {},
   "source": [
    "**Around 70% of all the variance is explained with only 3 components, we choose this number of components for the dimensionality reduction.**"
   ]
  },
  {
   "cell_type": "markdown",
   "metadata": {},
   "source": [
    "**Number of clusters:**"
   ]
  },
  {
   "cell_type": "markdown",
   "metadata": {},
   "source": [
    "We are going to use both the elbow method and Silhouette Score to choose the number of clusters."
   ]
  },
  {
   "cell_type": "markdown",
   "metadata": {},
   "source": [
    "![cluster decision](../app/images/wine_cluster_tests-k.png)"
   ]
  },
  {
   "cell_type": "markdown",
   "metadata": {},
   "source": [
    "- **Elbow Method:** Through the elbow method we can check that the number of clusters from where the WCSS start to decrese at a lower rate (elbow) is 3. From that point onwards the compactness of clusters doesn't improve significantly.\n",
    "\n",
    "- **Silhouette Score:** We can also check that the number of clusters that maximizes the Silhouette score (measures how well separated clusters are) is also 3.\n",
    "\n",
    "**We are going to work with 3 clusters for the analysis.**"
   ]
  },
  {
   "cell_type": "markdown",
   "metadata": {},
   "source": [
    "**Feature influence on clusters:**"
   ]
  },
  {
   "cell_type": "markdown",
   "metadata": {},
   "source": [
    "![pca biplot](../app/images/PCA_biplot.png)"
   ]
  },
  {
   "cell_type": "markdown",
   "metadata": {},
   "source": [
    "- **Cluster 0:** Hue, Diluted wines, Flavanoids and Proanthocyanins tends to form yet another cluster.\n",
    "- **Cluster 1:** Alkalinity of Ash, Nonflavanoid phenols and Malic acid tends to form one of the clusters.\n",
    "- **Cluster 2:** Color Intensity, Ash, Alcohol, Magnesium and Proline tends to form another cluster."
   ]
  },
  {
   "cell_type": "markdown",
   "metadata": {},
   "source": [
    "**Cluster Characteristics:**"
   ]
  },
  {
   "cell_type": "markdown",
   "metadata": {},
   "source": [
    "![mean deviations](../app/images/wine_cluster_mean_deviations.png)"
   ]
  },
  {
   "cell_type": "markdown",
   "metadata": {},
   "source": [
    "We can check what we mentioned before for each of the variables. The previous chart shows the mean deviation of each cluster from the overall mean for each feature."
   ]
  },
  {
   "cell_type": "markdown",
   "metadata": {},
   "source": [
    "![cluster characteristics](../app/images/wine_cluster_characteristics.png)"
   ]
  },
  {
   "cell_type": "markdown",
   "metadata": {},
   "source": [
    "![radar](../app/images/wine_cluster_radar.png)"
   ]
  },
  {
   "cell_type": "markdown",
   "metadata": {},
   "source": [
    "## Cluster presentations"
   ]
  },
  {
   "cell_type": "markdown",
   "metadata": {},
   "source": [
    "### **Cluster 0: Light and Refreshing**\n",
    "#### Characteristics:\n",
    "- **Lower Alcohol:** Wines in this cluster have lower alcohol content, contributing to a lighter and potentially more refreshing drinking experience.\n",
    "- **Lower Malic Acid:** Reduced malic acid levels may result in wines with less tartness and acidity.\n",
    "- **Lower Ash:** Wines in this cluster have lower ash content, potentially influencing the mineral profile.\n",
    "- **Medium Ash Alcalinity:** Moderate ash alcalinity indicates a balanced acidity level.\n",
    "- **Lower Magnesium:** Reduced magnesium levels may influence the mouthfeel and texture of the wine.\n",
    "- **Medium Total Phenols:** A moderate level of total phenols suggests a balanced phenolic composition.\n",
    "- **Medium Nonflavanoid Phenols:** These wines exhibit a moderate level of nonflavanoid phenols, contributing to the overall phenolic profile.\n",
    "- **Medium Proanthocyanins:** A balanced level of proanthocyanins contributes to color intensity and potential health benefits.\n",
    "- **Lower Color Intensity:** The wines in this cluster exhibit lower color intensity.\n",
    "- **Medium OD280:** A medium OD280 value indicates a balanced protein content.\n",
    "- **Lower Proline:** Reduced proline levels may contribute to a different mouthfeel.\n",
    "- **Hue same as Cluster 2:** Similar hue values to Cluster 2 may suggest a shared color tone.\n",
    "\n",
    "#### Interpretation:\n",
    "- Cluster 0 wines are characterized by their lighter profile, offering a refreshing and easy-drinking experience.\n",
    "- Medium levels of Flavanoids, Proanthocyanins, and OD280 hint a medium level of wine quality.\n",
    "- **Potential Appeal:** Individuals who enjoy lighter, well-balanced wines with moderate acidity and a nuanced flavor profile may find Cluster 0 wines appealing.\n",
    "- **Food Pairing:** These wines may pair well with lighter dishes, salads, and seafood.\n",
    "\n",
    "\n",
    "### **Cluster 1: Balanced and Versatile**\n",
    "#### Characteristics:\n",
    "- **Medium Alcohol:** Wines in this cluster have a moderate alcohol content, providing a balanced and versatile drinking experience.\n",
    "- **Higher Malic Acid:** Elevated malic acid levels may contribute to increased tartness and acidity.\n",
    "- **Medium Ash:** These wines exhibit a moderate ash content, influencing the mineral profile.\n",
    "- **Higher Ash Alcalinity:** Elevated ash alcalinity contributes to a higher acidity level.\n",
    "- **Medium Magnesium:** A moderate level of magnesium influences the mouthfeel and texture of the wine.\n",
    "- **Lower Total Phenols:** Wines in this cluster have lower total phenolic content, potentially resulting in a lighter flavor profile.\n",
    "- **Higher Nonflavanoid Phenols:** Elevated nonflavanoid phenols contribute to a unique phenolic composition.\n",
    "- **Medium Proanthocyanins:** A balanced level of proanthocyanins adds to the overall structure of the wine.\n",
    "- **Higher Color Intensity:** Wines in this cluster exhibit increased color intensity.\n",
    "- **Lower Hue:** Reduced hue values indicate a potentially different color tone.\n",
    "- **Lower OD280:** A lower OD280 value suggests a different protein content.\n",
    "- **Medium Proline:** Moderate proline levels contribute to the overall mouthfeel.\n",
    "\n",
    "#### Interpretation:\n",
    "- Cluster 1 wines offer a balanced profile with a moderate alcohol level, elevated acidity, and unique phenolic composition.\n",
    "- Lower levels of Flavanoids, Proanthocyanins, and OD280 hint a lower level of wine quality.\n",
    "- **Potential Appeal:** Those seeking wines with versatility, moderate complexity, and a balanced acidity may find Cluster 1 wines appealing.\n",
    "- **Food Pairing:** These wines may pair well with a variety of dishes, including poultry, pasta, and grilled vegetables.\n",
    "\n",
    "\n",
    "### **Cluster 2: Bold and Complex**\n",
    "#### Characteristics:\n",
    "- **Higher Alcohol:** Wines in this cluster have higher alcohol content, contributing to a fuller body and potentially warmer sensation.\n",
    "- **Medium Malic Acid:** A moderate level of malic acid contributes to a balanced acidity.\n",
    "- **High Ash:** These wines exhibit higher ash content, potentially influencing the mineral profile.\n",
    "- **Lower Ash Alcalinity:** Reduced ash alcalinity contributes to a lower acidity level.\n",
    "- **Higher Magnesium:** Elevated magnesium levels influence the mouthfeel and texture of the wine.\n",
    "- **Higher Total Phenols:** Wines in this cluster have higher total phenolic content, suggesting a richer flavor profile.\n",
    "- **Lower Nonflavanoid Phenols:** Reduced nonflavanoid phenols contribute to a distinct phenolic composition.\n",
    "- **Higher Proanthocyanins:** Elevated proanthocyanin levels add to the overall structure and potential health benefits.\n",
    "- **Medium Color Intensity:** The wines in this cluster exhibit a moderate level of color intensity.\n",
    "- **Hue same as Cluster 0:** Similar hue values to Cluster 0 may suggest a shared color tone.\n",
    "- **Higher OD280:** An elevated OD280 value indicates a potentially higher protein content.\n",
    "- **Higher Proline:** Elevated proline levels contribute to the overall mouthfeel.\n",
    "\n",
    "#### Interpretation:\n",
    "- Cluster 2 wines are characterized by their boldness, richer flavor profile, and fuller body.\n",
    "- Strong levels of Flavanoids, Proanthocyanins, and OD280 hint a higher level of wine quality.\n",
    "- **Potential Appeal:** Enthusiasts seeking more intense and complex wines with higher alcohol content and robust flavors may find Cluster 2 wines appealing.\n",
    "- **Food Pairing:** These wines may pair well with hearty dishes, red meats, and aged cheeses.\n",
    "\n"
   ]
  },
  {
   "cell_type": "markdown",
   "metadata": {},
   "source": []
  }
 ],
 "metadata": {
  "kernelspec": {
   "display_name": "wine",
   "language": "python",
   "name": "python3"
  },
  "language_info": {
   "codemirror_mode": {
    "name": "ipython",
    "version": 3
   },
   "file_extension": ".py",
   "mimetype": "text/x-python",
   "name": "python",
   "nbconvert_exporter": "python",
   "pygments_lexer": "ipython3",
   "version": "3.10.6"
  }
 },
 "nbformat": 4,
 "nbformat_minor": 2
}
